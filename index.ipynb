{
  "cells": [
    {
      "cell_type": "markdown",
      "metadata": {},
      "source": [
        "# Advertência\n",
        "\n",
        "\n",
        "```{js}\n",
        "<script async src=\"https://pagead2.googlesyndication.com/pagead/js/adsbygoogle.js?client=ca-pub-9088403291464012\" crossorigin=\"anonymous\"></script>\n",
        "```\n",
        "\n",
        "\n",
        "::: {.callout-note}\n",
        "\n",
        "## Atenção\n",
        "\n",
        "Este conteúdo é uma reprodução da Constituição Federal de 1988. Para garantir informações atualizadas e consultar a versão oficial, acesse a [fonte oficial](https://www.planalto.gov.br/ccivil_03/constituicao/ConstituicaoCompilado.htm).\n",
        "\n",
        ":::\n",
        "\n",
        "\n",
        "```{js}\n",
        "<ins class=\"adsbygoogle\"\n",
        "     style=\"display:block\"\n",
        "     data-ad-client=\"ca-pub-9088403291464012\"\n",
        "     data-ad-slot=\"SEU-CÓDIGO-DE-ANÚNCIO\"\n",
        "     data-ad-format=\"auto\"></ins>\n",
        "<script>\n",
        "     (adsbygoogle = window.adsbygoogle || []).push({});\n",
        "</script>\n",
        "\n",
        "```"
      ],
      "id": "32e787f9"
    }
  ],
  "metadata": {
    "kernelspec": {
      "name": "python3",
      "language": "python",
      "display_name": "Python 3 (ipykernel)"
    }
  },
  "nbformat": 4,
  "nbformat_minor": 5
}